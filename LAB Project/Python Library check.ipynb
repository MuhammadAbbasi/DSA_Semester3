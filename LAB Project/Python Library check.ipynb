{
 "cells": [
  {
   "cell_type": "code",
   "execution_count": 1,
   "metadata": {},
   "outputs": [],
   "source": [
    "import numpy"
   ]
  },
  {
   "cell_type": "code",
   "execution_count": 2,
   "metadata": {},
   "outputs": [],
   "source": [
    "import cv2"
   ]
  },
  {
   "cell_type": "code",
   "execution_count": 3,
   "metadata": {},
   "outputs": [
    {
     "data": {
      "text/plain": [
       "['ANN_MLP_ANNEAL',\n",
       " 'ANN_MLP_BACKPROP',\n",
       " 'ANN_MLP_GAUSSIAN',\n",
       " 'ANN_MLP_IDENTITY',\n",
       " 'ANN_MLP_LEAKYRELU',\n",
       " 'ANN_MLP_NO_INPUT_SCALE',\n",
       " 'ANN_MLP_NO_OUTPUT_SCALE',\n",
       " 'ANN_MLP_RELU',\n",
       " 'ANN_MLP_RPROP',\n",
       " 'ANN_MLP_SIGMOID_SYM',\n",
       " 'ANN_MLP_UPDATE_WEIGHTS',\n",
       " 'ANN_MLP_create',\n",
       " 'ANN_MLP_load',\n",
       " 'BOOST_DISCRETE',\n",
       " 'BOOST_GENTLE',\n",
       " 'BOOST_LOGIT',\n",
       " 'BOOST_REAL',\n",
       " 'Boost_DISCRETE',\n",
       " 'Boost_GENTLE',\n",
       " 'Boost_LOGIT',\n",
       " 'Boost_REAL',\n",
       " 'Boost_create',\n",
       " 'Boost_load',\n",
       " 'COL_SAMPLE',\n",
       " 'DTREES_PREDICT_AUTO',\n",
       " 'DTREES_PREDICT_MASK',\n",
       " 'DTREES_PREDICT_MAX_VOTE',\n",
       " 'DTREES_PREDICT_SUM',\n",
       " 'DTrees_PREDICT_AUTO',\n",
       " 'DTrees_PREDICT_MASK',\n",
       " 'DTrees_PREDICT_MAX_VOTE',\n",
       " 'DTrees_PREDICT_SUM',\n",
       " 'DTrees_create',\n",
       " 'DTrees_load',\n",
       " 'EM_COV_MAT_DEFAULT',\n",
       " 'EM_COV_MAT_DIAGONAL',\n",
       " 'EM_COV_MAT_GENERIC',\n",
       " 'EM_COV_MAT_SPHERICAL',\n",
       " 'EM_DEFAULT_MAX_ITERS',\n",
       " 'EM_DEFAULT_NCLUSTERS',\n",
       " 'EM_START_AUTO_STEP',\n",
       " 'EM_START_E_STEP',\n",
       " 'EM_START_M_STEP',\n",
       " 'EM_create',\n",
       " 'EM_load',\n",
       " 'KNEAREST_BRUTE_FORCE',\n",
       " 'KNEAREST_KDTREE',\n",
       " 'KNearest_BRUTE_FORCE',\n",
       " 'KNearest_KDTREE',\n",
       " 'KNearest_create',\n",
       " 'LOGISTIC_REGRESSION_BATCH',\n",
       " 'LOGISTIC_REGRESSION_MINI_BATCH',\n",
       " 'LOGISTIC_REGRESSION_REG_DISABLE',\n",
       " 'LOGISTIC_REGRESSION_REG_L1',\n",
       " 'LOGISTIC_REGRESSION_REG_L2',\n",
       " 'LogisticRegression_BATCH',\n",
       " 'LogisticRegression_MINI_BATCH',\n",
       " 'LogisticRegression_REG_DISABLE',\n",
       " 'LogisticRegression_REG_L1',\n",
       " 'LogisticRegression_REG_L2',\n",
       " 'LogisticRegression_create',\n",
       " 'LogisticRegression_load',\n",
       " 'NormalBayesClassifier_create',\n",
       " 'NormalBayesClassifier_load',\n",
       " 'ParamGrid_create',\n",
       " 'ROW_SAMPLE',\n",
       " 'RTrees_create',\n",
       " 'RTrees_load',\n",
       " 'STAT_MODEL_COMPRESSED_INPUT',\n",
       " 'STAT_MODEL_PREPROCESSED_INPUT',\n",
       " 'STAT_MODEL_RAW_OUTPUT',\n",
       " 'STAT_MODEL_UPDATE_MODEL',\n",
       " 'SVMSGD_ASGD',\n",
       " 'SVMSGD_HARD_MARGIN',\n",
       " 'SVMSGD_SGD',\n",
       " 'SVMSGD_SOFT_MARGIN',\n",
       " 'SVMSGD_create',\n",
       " 'SVMSGD_load',\n",
       " 'SVM_C',\n",
       " 'SVM_CHI2',\n",
       " 'SVM_COEF',\n",
       " 'SVM_CUSTOM',\n",
       " 'SVM_C_SVC',\n",
       " 'SVM_DEGREE',\n",
       " 'SVM_EPS_SVR',\n",
       " 'SVM_GAMMA',\n",
       " 'SVM_INTER',\n",
       " 'SVM_LINEAR',\n",
       " 'SVM_NU',\n",
       " 'SVM_NU_SVC',\n",
       " 'SVM_NU_SVR',\n",
       " 'SVM_ONE_CLASS',\n",
       " 'SVM_P',\n",
       " 'SVM_POLY',\n",
       " 'SVM_RBF',\n",
       " 'SVM_SIGMOID',\n",
       " 'SVM_create',\n",
       " 'SVM_getDefaultGridPtr',\n",
       " 'SVM_load',\n",
       " 'StatModel_COMPRESSED_INPUT',\n",
       " 'StatModel_PREPROCESSED_INPUT',\n",
       " 'StatModel_RAW_OUTPUT',\n",
       " 'StatModel_UPDATE_MODEL',\n",
       " 'TEST_ERROR',\n",
       " 'TRAIN_ERROR',\n",
       " 'TrainData_create',\n",
       " 'TrainData_getSubMatrix',\n",
       " 'TrainData_getSubVector',\n",
       " 'VAR_CATEGORICAL',\n",
       " 'VAR_NUMERICAL',\n",
       " 'VAR_ORDERED',\n",
       " '__doc__',\n",
       " '__loader__',\n",
       " '__name__',\n",
       " '__package__',\n",
       " '__spec__']"
      ]
     },
     "execution_count": 3,
     "metadata": {},
     "output_type": "execute_result"
    }
   ],
   "source": [
    "dir(cv2.ml)"
   ]
  },
  {
   "cell_type": "code",
   "execution_count": 4,
   "metadata": {},
   "outputs": [],
   "source": [
    "import matplotlib.pyplot as plt"
   ]
  },
  {
   "cell_type": "code",
   "execution_count": 5,
   "metadata": {},
   "outputs": [
    {
     "data": {
      "text/plain": [
       "['bmh',\n",
       " 'classic',\n",
       " 'dark_background',\n",
       " 'fast',\n",
       " 'fivethirtyeight',\n",
       " 'ggplot',\n",
       " 'grayscale',\n",
       " 'seaborn-bright',\n",
       " 'seaborn-colorblind',\n",
       " 'seaborn-dark-palette',\n",
       " 'seaborn-dark',\n",
       " 'seaborn-darkgrid',\n",
       " 'seaborn-deep',\n",
       " 'seaborn-muted',\n",
       " 'seaborn-notebook',\n",
       " 'seaborn-paper',\n",
       " 'seaborn-pastel',\n",
       " 'seaborn-poster',\n",
       " 'seaborn-talk',\n",
       " 'seaborn-ticks',\n",
       " 'seaborn-white',\n",
       " 'seaborn-whitegrid',\n",
       " 'seaborn',\n",
       " 'Solarize_Light2',\n",
       " 'tableau-colorblind10',\n",
       " '_classic_test']"
      ]
     },
     "execution_count": 5,
     "metadata": {},
     "output_type": "execute_result"
    }
   ],
   "source": [
    "plt.style.available"
   ]
  },
  {
   "cell_type": "code",
   "execution_count": null,
   "metadata": {},
   "outputs": [],
   "source": [
    "from sklearn import datasets"
   ]
  },
  {
   "cell_type": "code",
   "execution_count": null,
   "metadata": {},
   "outputs": [],
   "source": [
    "digits = datasets.load_digits()"
   ]
  },
  {
   "cell_type": "code",
   "execution_count": null,
   "metadata": {},
   "outputs": [],
   "source": [
    "print(digits.data.shape)"
   ]
  },
  {
   "cell_type": "code",
   "execution_count": 9,
   "metadata": {},
   "outputs": [
    {
     "name": "stdout",
     "output_type": "stream",
     "text": [
      "(1797, 8, 8)\n"
     ]
    }
   ],
   "source": [
    "print(digits.images.shape)"
   ]
  },
  {
   "cell_type": "code",
   "execution_count": 12,
   "metadata": {},
   "outputs": [
    {
     "data": {
      "text/plain": [
       "<matplotlib.image.AxesImage at 0x294985d0e10>"
      ]
     },
     "execution_count": 12,
     "metadata": {},
     "output_type": "execute_result"
    },
    {
     "data": {
      "image/png": "[encoded data removed]",
      "text/plain": [
       "<Figure size 432x288 with 1 Axes>"
      ]
     },
     "metadata": {
      "needs_background": "light"
     },
     "output_type": "display_data"
    }
   ],
   "source": [
    "plt.imshow(digits.images[0,:,:],cmap = 'gray')"
   ]
  },
  {
   "cell_type": "code",
   "execution_count": 15,
   "metadata": {},
   "outputs": [
    {
     "data": {
      "image/png": "[encoded data removed]",
      "text/plain": [
       "<Figure size 432x288 with 20 Axes>"
      ]
     },
     "metadata": {
      "needs_background": "light"
     },
     "output_type": "display_data"
    }
   ],
   "source": [
    "for image_index in range(20):\n",
    "    subplot_index = image_index + 1\n",
    "    plt.subplot(4, 5, subplot_index)\n",
    "    plt.imshow(digits.images[image_index, :, :], cmap='gray')"
   ]
  },
  {
   "cell_type": "code",
   "execution_count": 16,
   "metadata": {},
   "outputs": [
    {
     "data": {
      "image/png": "[encoded data removed]",
      "text/plain": [
       "<Figure size 432x288 with 20 Axes>"
      ]
     },
     "metadata": {
      "needs_background": "light"
     },
     "output_type": "display_data"
    }
   ],
   "source": [
    "for image_index in range(20):\n",
    "    subplot_index = image_index + 1\n",
    "    plt.subplot(4, 5, subplot_index)\n",
    "    plt.imshow(digits.images[image_index, :, :])"
   ]
  },
  {
   "cell_type": "code",
   "execution_count": 17,
   "metadata": {},
   "outputs": [],
   "source": [
    "import numpy as np"
   ]
  },
  {
   "cell_type": "code",
   "execution_count": 18,
   "metadata": {},
   "outputs": [],
   "source": [
    "np.random.seed(42)"
   ]
  },
  {
   "cell_type": "code",
   "execution_count": 31,
   "metadata": {},
   "outputs": [
    {
     "data": {
      "text/plain": [
       "array([1, 0, 1, 1, 1])"
      ]
     },
     "execution_count": 31,
     "metadata": {},
     "output_type": "execute_result"
    }
   ],
   "source": [
    "y_true = np.random.randint(0,2,5)\n",
    "y_true"
   ]
  },
  {
   "cell_type": "code",
   "execution_count": null,
   "metadata": {},
   "outputs": [],
   "source": []
  },
  {
   "cell_type": "code",
   "execution_count": null,
   "metadata": {},
   "outputs": [],
   "source": []
  },
  {
   "cell_type": "code",
   "execution_count": null,
   "metadata": {},
   "outputs": [],
   "source": []
  },
  {
   "cell_type": "code",
   "execution_count": null,
   "metadata": {},
   "outputs": [],
   "source": []
  },
  {
   "cell_type": "code",
   "execution_count": null,
   "metadata": {},
   "outputs": [],
   "source": []
  },
  {
   "cell_type": "code",
   "execution_count": null,
   "metadata": {},
   "outputs": [],
   "source": []
  },
  {
   "cell_type": "code",
   "execution_count": null,
   "metadata": {},
   "outputs": [],
   "source": []
  },
  {
   "cell_type": "code",
   "execution_count": null,
   "metadata": {},
   "outputs": [],
   "source": []
  }
 ],
 "metadata": {
  "kernelspec": {
   "display_name": "Python 3",
   "language": "python",
   "name": "python3"
  },
  "language_info": {
   "codemirror_mode": {
    "name": "ipython",
    "version": 3
   },
   "file_extension": ".py",
   "mimetype": "text/x-python",
   "name": "python",
   "nbconvert_exporter": "python",
   "pygments_lexer": "ipython3",
   "version": "3.7.0"
  }
 },
 "nbformat": 4,
 "nbformat_minor": 2
}
